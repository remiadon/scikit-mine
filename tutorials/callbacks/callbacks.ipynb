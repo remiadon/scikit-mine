{
 "cells": [
  {
   "cell_type": "markdown",
   "metadata": {},
   "source": [
    "## Callback API demo\n",
    "\n",
    "In this demo we are going to use the callback API to **track some useful information while training** a SLIM miner\n",
    "\n",
    "We simply define custom python functions, and submit them to create an instance of `skmine.callbacks.CallBacks`."
   ]
  },
  {
   "cell_type": "code",
   "execution_count": 1,
   "metadata": {},
   "outputs": [],
   "source": [
    "import pandas as pd\n",
    "import numpy as np\n",
    "\n",
    "from skmine.callbacks import CallBacks\n",
    "from skmine.itemsets import SLIM\n",
    "from skmine.datasets.fimi import fetch_mushroom"
   ]
  },
  {
   "cell_type": "code",
   "execution_count": 2,
   "metadata": {},
   "outputs": [
    {
     "data": {
      "text/plain": [
       "0    [3, 9, 13, 23, 25, 34, 36, 38, 40, 52, 54, 59,...\n",
       "1    [3, 9, 14, 23, 26, 34, 36, 39, 40, 52, 55, 59,...\n",
       "2    [4, 9, 15, 23, 27, 34, 36, 39, 41, 52, 55, 59,...\n",
       "3    [3, 10, 15, 23, 25, 34, 36, 38, 41, 52, 54, 59...\n",
       "4    [3, 9, 16, 24, 28, 34, 37, 39, 40, 53, 54, 59,...\n",
       "Name: mushroom, dtype: object"
      ]
     },
     "execution_count": 2,
     "metadata": {},
     "output_type": "execute_result"
    }
   ],
   "source": [
    "mushroom = fetch_mushroom()\n",
    "mushroom.head()"
   ]
  },
  {
   "cell_type": "code",
   "execution_count": 3,
   "metadata": {},
   "outputs": [],
   "source": [
    "# set n_iter_no_change to a high value so learning takes longer\n",
    "slim = SLIM(n_iter_no_change=200)"
   ]
  },
  {
   "cell_type": "markdown",
   "metadata": {},
   "source": [
    "-------------------\n",
    "\n",
    "### Define your own callbacks\n",
    "\n",
    "We define custom functions, that will take the result of the function they target as input. Those results will be ingested for later reuse\n",
    "\n",
    "Here we define two methods:\n",
    "\n",
    "1. `post_evaluate` is executed after `SLIM.evaluate`. It tracks sizes for both the data and the model\n",
    "2. `post_gen` is executed after `SLIM.generate_candidates`, and just records the size of the current batch of candidates"
   ]
  },
  {
   "cell_type": "code",
   "execution_count": 4,
   "metadata": {},
   "outputs": [],
   "source": [
    "sizes = list()\n",
    "candidate_sizes = list()\n",
    "\n",
    "def post_evaluate(data_size, model_size, *args):\n",
    "    sizes.append((data_size, model_size))\n",
    "\n",
    "def post_gen(candidates):\n",
    "    candidate_sizes.append(len(candidates))"
   ]
  },
  {
   "cell_type": "markdown",
   "metadata": {},
   "source": [
    "A `skmine.callbacks.CallBacks` is a collection of callbacks.\n",
    "\n",
    "It's a mapping between function names and their dedicated callbacks. When an instance of `skmine.callbacks.CallBacks` is called (`() operator`) on an object, it looks for internal methods and tries to attach the callbacks."
   ]
  },
  {
   "cell_type": "code",
   "execution_count": 5,
   "metadata": {},
   "outputs": [],
   "source": [
    "callbacks = CallBacks(evaluate=post_evaluate, generate_candidates=post_gen)\n",
    "\n",
    "callbacks(slim)"
   ]
  },
  {
   "cell_type": "code",
   "execution_count": 6,
   "metadata": {},
   "outputs": [
    {
     "name": "stdout",
     "output_type": "stream",
     "text": [
      "CPU times: user 3.75 s, sys: 36.7 ms, total: 3.79 s\n",
      "Wall time: 3.8 s\n"
     ]
    },
    {
     "data": {
      "text/html": [
       "<div>\n",
       "<style scoped>\n",
       "    .dataframe tbody tr th:only-of-type {\n",
       "        vertical-align: middle;\n",
       "    }\n",
       "\n",
       "    .dataframe tbody tr th {\n",
       "        vertical-align: top;\n",
       "    }\n",
       "\n",
       "    .dataframe thead th {\n",
       "        text-align: right;\n",
       "    }\n",
       "</style>\n",
       "<table border=\"1\" class=\"dataframe\">\n",
       "  <thead>\n",
       "    <tr style=\"text-align: right;\">\n",
       "      <th></th>\n",
       "      <th>usage</th>\n",
       "    </tr>\n",
       "  </thead>\n",
       "  <tbody>\n",
       "    <tr>\n",
       "      <th>(36, 39, 116, 23, 56, 28, 93)</th>\n",
       "      <td>[305, 335, 384, 449, 632, 684, 873, 890, 917, ...</td>\n",
       "    </tr>\n",
       "    <tr>\n",
       "      <th>(34, 85, 86, 90, 59, 63)</th>\n",
       "      <td>[0, 1, 2, 3, 4, 5, 6, 7, 8, 9, 10, 11, 12, 13,...</td>\n",
       "    </tr>\n",
       "    <tr>\n",
       "      <th>(110, 53, 102, 24, 58, 94)</th>\n",
       "      <td>[4023, 4100, 4104, 4196, 4200, 4329, 4376, 442...</td>\n",
       "    </tr>\n",
       "    <tr>\n",
       "      <th>(66, 61, 36, 101, 39, 29)</th>\n",
       "      <td>[1816, 2128, 2178, 2238, 2385, 2443, 2533, 253...</td>\n",
       "    </tr>\n",
       "    <tr>\n",
       "      <th>(67, 36, 39, 23, 76, 93)</th>\n",
       "      <td>[1, 2, 5, 6, 7, 9, 10, 11, 12, 20, 22, 23, 24,...</td>\n",
       "    </tr>\n",
       "    <tr>\n",
       "      <th>...</th>\n",
       "      <td>...</td>\n",
       "    </tr>\n",
       "    <tr>\n",
       "      <th>(49)</th>\n",
       "      <td>[5153, 5376, 5477, 5526, 5548, 5571, 5593, 560...</td>\n",
       "    </tr>\n",
       "    <tr>\n",
       "      <th>(82)</th>\n",
       "      <td>[4494, 5131, 5154, 5162, 5239, 5241, 5259, 526...</td>\n",
       "    </tr>\n",
       "    <tr>\n",
       "      <th>(22)</th>\n",
       "      <td>[4326, 4898, 5284, 5302, 5351, 5430, 5497, 552...</td>\n",
       "    </tr>\n",
       "    <tr>\n",
       "      <th>(8)</th>\n",
       "      <td>[5126, 5508, 7401, 7706]</td>\n",
       "    </tr>\n",
       "    <tr>\n",
       "      <th>(12)</th>\n",
       "      <td>[5107, 5126, 5128, 5717]</td>\n",
       "    </tr>\n",
       "  </tbody>\n",
       "</table>\n",
       "<p>236 rows × 1 columns</p>\n",
       "</div>"
      ],
      "text/plain": [
       "<skmine.itemsets.slim.SLIM at 0x12208cb00>"
      ]
     },
     "execution_count": 6,
     "metadata": {},
     "output_type": "execute_result"
    }
   ],
   "source": [
    "%time slim.fit(mushroom)"
   ]
  },
  {
   "cell_type": "markdown",
   "metadata": {},
   "source": [
    "### Inner view of MDL learning \n",
    "\n",
    "The plot below clearly shows **how SLIM performs compression**.\n",
    "\n",
    "While the blue curve represents the size of the data, \n",
    "red vertical lines emphasize the end of a batch of candidates.\n",
    "\n",
    "**We can clearly dinstinguish the beginning of a batch of candidates, where the learning curve is quite abrupt, from the end of a batch, where it reaches a plateau**."
   ]
  },
  {
   "cell_type": "code",
   "execution_count": 7,
   "metadata": {},
   "outputs": [
    {
     "data": {
      "image/png": "[encoded data removed]",
      "text/plain": [
       "<Figure size 432x288 with 1 Axes>"
      ]
     },
     "metadata": {
      "needs_background": "light"
     },
     "output_type": "display_data"
    }
   ],
   "source": [
    "df = pd.DataFrame(sizes, columns=['data_size', 'model_size'])\n",
    "ax = df.data_size.plot()\n",
    "for s in np.cumsum(candidate_sizes):\n",
    "    ax.axvline(s, color='r')"
   ]
  },
  {
   "cell_type": "markdown",
   "metadata": {},
   "source": [
    "------------------\n",
    "And here is how the model size goes up"
   ]
  },
  {
   "cell_type": "code",
   "execution_count": 8,
   "metadata": {},
   "outputs": [
    {
     "data": {
      "text/plain": [
       "<AxesSubplot:>"
      ]
     },
     "execution_count": 8,
     "metadata": {},
     "output_type": "execute_result"
    },
    {
     "data": {
      "image/png": "[encoded data removed]",
      "text/plain": [
       "<Figure size 432x288 with 1 Axes>"
      ]
     },
     "metadata": {
      "needs_background": "light"
     },
     "output_type": "display_data"
    }
   ],
   "source": [
    "df.model_size.plot()"
   ]
  }
 ],
 "metadata": {
  "kernelspec": {
   "display_name": "Python 3",
   "language": "python",
   "name": "python3"
  },
  "language_info": {
   "codemirror_mode": {
    "name": "ipython",
    "version": 3
   },
   "file_extension": ".py",
   "mimetype": "text/x-python",
   "name": "python",
   "nbconvert_exporter": "python",
   "pygments_lexer": "ipython3",
   "version": "3.6.12"
  }
 },
 "nbformat": 4,
 "nbformat_minor": 4
}
